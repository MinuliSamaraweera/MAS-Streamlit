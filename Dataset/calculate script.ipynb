{
 "cells": [
  {
   "cell_type": "code",
   "execution_count": 8,
   "metadata": {},
   "outputs": [],
   "source": [
    "import pandas as pd\n",
    "\n",
    "# Load the dataset\n",
    "file_path = 'updated_worker_defect_details.csv'\n",
    "data = pd.read_csv(file_path)\n",
    "\n",
    "# Calculate defect_count and count\n",
    "data['defect_count'] = data['Run_Off_D1'] + data['Open_Seam_D2'] + data['SPI_Errors_D3'] + data['High_Low_D4']\n",
    "data['count'] = data['Production_Volume'] - data['defect_count']\n",
    "\n",
    "# Display the updated dataset\n",
    "# print(data.head())\n",
    "\n",
    "# Save the updated dataset to a new CSV file\n",
    "output_path = 'updated_worker_defect_details.csv'\n",
    "data.to_csv(output_path, index=False)\n",
    "\n",
    "# print(f\"Updated dataset saved to {output_path}\")"
   ]
  }
 ],
 "metadata": {
  "kernelspec": {
   "display_name": "Python 3",
   "language": "python",
   "name": "python3"
  },
  "language_info": {
   "codemirror_mode": {
    "name": "ipython",
    "version": 3
   },
   "file_extension": ".py",
   "mimetype": "text/x-python",
   "name": "python",
   "nbconvert_exporter": "python",
   "pygments_lexer": "ipython3",
   "version": "3.12.3"
  }
 },
 "nbformat": 4,
 "nbformat_minor": 2
}
