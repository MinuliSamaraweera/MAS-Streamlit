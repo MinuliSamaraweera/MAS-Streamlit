{
 "cells": [
  {
   "cell_type": "code",
   "execution_count": null,
   "metadata": {},
   "outputs": [],
   "source": [
    "import pandas as pd\n",
    "from datetime import datetime\n",
    "\n",
    "# Load datasets\n",
    "demographic_data = pd.read_csv('demographic_data.csv')\n",
    "defect_data = pd.read_csv('defect_data.csv')\n",
    "\n",
    "# Data Cleaning\n",
    "# Handle missing values\n",
    "demographic_data.fillna(method='ffill', inplace=True)\n",
    "defect_data.fillna(0, inplace=True)\n",
    "\n",
    "# Data Integration\n",
    "# Merge data on Worker_ID and Date\n",
    "merged_data = pd.merge(defect_data, production_data, on=['Worker_ID', 'Date'])\n",
    "merged_data = pd.merge(merged_data, demographic_data, on='Worker_ID')\n",
    "\n",
    "# Feature Engineering\n",
    "# Calculate Experience\n",
    "merged_data['Experience'] = (pd.to_datetime(merged_data['Date']) - pd.to_datetime(merged_data['Joining_Date'])).dt.days\n",
    "\n",
    "# Create dummy variables\n",
    "merged_data = pd.get_dummies(merged_data, columns=['Gender', 'Shift', 'Skill_Level'])\n",
    "\n",
    "# Save the preprocessed data\n",
    "merged_data.to_csv('preprocessed_data.csv', index=False)"
   ]
  }
 ],
 "metadata": {
  "language_info": {
   "name": "python"
  }
 },
 "nbformat": 4,
 "nbformat_minor": 2
}
